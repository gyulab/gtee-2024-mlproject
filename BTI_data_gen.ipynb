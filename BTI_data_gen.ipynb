{
  "nbformat": 4,
  "nbformat_minor": 0,
  "metadata": {
    "colab": {
      "provenance": [],
      "mount_file_id": "1IlihYvdvzNGc3Qcw9Q5dz8UHYy3xssPm",
      "authorship_tag": "ABX9TyN/91I/uOQWjv2YfT3aPvEO",
      "include_colab_link": true
    },
    "kernelspec": {
      "name": "python3",
      "display_name": "Python 3"
    },
    "language_info": {
      "name": "python"
    }
  },
  "cells": [
    {
      "cell_type": "markdown",
      "metadata": {
        "id": "view-in-github",
        "colab_type": "text"
      },
      "source": [
        "<a href=\"https://colab.research.google.com/github/gyulab/gtee-bti-mlproject/blob/data-gen/BTI_data_gen.ipynb\" target=\"_parent\"><img src=\"https://colab.research.google.com/assets/colab-badge.svg\" alt=\"Open In Colab\"/></a>"
      ]
    },
    {
      "cell_type": "code",
      "execution_count": 3,
      "metadata": {
        "colab": {
          "base_uri": "https://localhost:8080/"
        },
        "id": "VbhAGIGLWqbq",
        "outputId": "acb0336e-709c-46ca-af53-10713699bc1c"
      },
      "outputs": [
        {
          "output_type": "stream",
          "name": "stdout",
          "text": [
            "(36, 240)\n",
            "(22, 60)\n",
            "(22, 1980)\n"
          ]
        }
      ],
      "source": [
        "import numpy as np\n",
        "import pandas as pd\n",
        "\n",
        "df = pd.read_csv(r'/content/drive/MyDrive/Colab_ML_ProfYu/csv_data/IV_BTI_base.csv', encoding='utf8')\n",
        "t_stress_list = np.array([0, 1, 4, 7, 10, 40, 70, 100, 400, 700, 1000])\n",
        "temp_list = np.array([273.15-15, 273.15+25, 273.15+85]) # Kelvin\n",
        "#Vov_list = np.array([0.5, 1.0, 1.7])\n",
        "Vgs_list = np.array(df.iloc[:, 0])[:22]\n",
        "Vds_list=[0.01, 0.012, 0.015, 0.018, 0.022, 0.027, 0.034, 0.041, 0.050, 0.062, 0.075, 0.092, 0.113, 0.138, 0.169, 0.207, 0.253, 0.310, 0.379, 0.464, 0.568, 0.695, 0.851, 1.042, 1.275, 1.560, 1.9600, 2.337, 2.86, 3.4]\n",
        "\n",
        "extend_num = len(t_stress_list)*len(temp_list)\n",
        "\n",
        "print(df.shape)\n",
        "df = df.iloc[:22, :60]\n",
        "df.to_csv('/content/drive/MyDrive/Colab_ML_ProfYu/BTI_data_gen/IV_BTI_baseset.csv', index=False)\n",
        "print(df.shape)\n",
        "\n",
        "replicated_df = pd.concat([df] * extend_num, axis=1)\n",
        "print(replicated_df.shape)\n",
        "replicated_df.to_csv('/content/drive/MyDrive/Colab_ML_ProfYu/BTI_data_gen/extended_BTI_dataframe.csv', index=False)"
      ]
    },
    {
      "cell_type": "code",
      "source": [
        "from scipy import interpolate\n",
        "#### detla Vth data ####\n",
        "\n",
        "df = pd.read_excel(r'/content/drive/MyDrive/Colab_ML_ProfYu/BTI_data_gen/DG_BTI_Stress_P_N_H.xlsx')\n",
        "PBTI_array = np.array(df.iloc[0:11, 1:10]) # 2D array (ts, temp)\n",
        "NBTI_array = np.array(df.iloc[12:23, 1:10])\n",
        "HCD_array = np.array(df.iloc[24:35, 1:10])\n",
        "\n",
        "Vgs_neg = Vgs_list[:8] # For NBTI\n",
        "Vgs_pos = Vgs_list[8:] # For PBTI, HCI\n",
        "\n",
        "# PBTI\n",
        "x_values = np.array([0.5, 1.0, 1.7])\n",
        "PBTI_y_values = []\n",
        "for i in range(len(t_stress_list)):\n",
        "    temp_estimated_y_values = []\n",
        "    for j in range(len(temp_list)):\n",
        "        y_values = [PBTI_array[i,j], PBTI_array[i,3+j], PBTI_array[i,6+j]]\n",
        "        linear_interpolation = interpolate.interp1d(x_values, y_values, kind='linear', fill_value='extrapolate')\n",
        "        estimated_y_values = linear_interpolation(Vgs_pos)\n",
        "        temp_estimated_y_values.append(estimated_y_values)\n",
        "    PBTI_y_values.append(temp_estimated_y_values)\n",
        "PBTI_y_values = np.array(PBTI_y_values) # 3D-array: (11,3,14) = (t_stress, temp, Vgs_pos)\n",
        "print(PBTI_y_values.shape)\n",
        "\n",
        "# NBTI\n",
        "x_values_NBTI = np.array([-0.5, -1.0])\n",
        "NBTI_y_values = []\n",
        "for i in range(len(t_stress_list)):\n",
        "    temp_estimated_y_values = []\n",
        "    for j in range(len(temp_list)):\n",
        "        y_values = [NBTI_array[i,j], NBTI_array[i,3+j]]\n",
        "        linear_interpolation = interpolate.interp1d(x_values_NBTI, y_values, kind='linear', fill_value='extrapolate')\n",
        "        estimated_y_values = linear_interpolation(Vgs_neg)\n",
        "        temp_estimated_y_values.append(estimated_y_values)\n",
        "    NBTI_y_values.append(temp_estimated_y_values)\n",
        "NBTI_y_values = np.array(NBTI_y_values) # 3D-array: (11,3,8) = (t_stress, temp, Vgs_neg)\n",
        "\n",
        "# HCD\n",
        "HCD_y_values = []\n",
        "for i in range(len(t_stress_list)):\n",
        "    temp_estimated_y_values = []\n",
        "    for j in range(len(temp_list)):\n",
        "        y_values = [HCD_array[i,j], HCD_array[i,3+j], HCD_array[i,6+j]]\n",
        "        linear_interpolation = interpolate.interp1d(x_values, y_values, kind='linear', fill_value='extrapolate')\n",
        "        estimated_y_values = linear_interpolation(Vgs_pos)\n",
        "        temp_estimated_y_values.append(estimated_y_values)\n",
        "    HCD_y_values.append(temp_estimated_y_values)\n",
        "HCD_y_values = np.array(HCD_y_values) # 3D-array: (11,3,14) = (t_stress, temp, Vgs_pos)\n",
        "\n",
        "total_deltaV_variation = []\n",
        "for i in range(len(t_stress_list)):\n",
        "    temp_deltaV = []\n",
        "    for j in range(len(temp_list)):\n",
        "        test_y_values = np.concatenate((NBTI_y_values[i,j,:], PBTI_y_values[i,j,:])) # 85C 1000s BTI\n",
        "        temp_deltaV.append(test_y_values)\n",
        "    total_deltaV_variation.append(temp_deltaV)\n",
        "total_deltaV_variation = np.array(total_deltaV_variation)\n",
        "\n",
        "total_Vgs = []\n",
        "for i in range(len(t_stress_list)):\n",
        "    temp_Vgs = []\n",
        "    for j in range(len(temp_list)):\n",
        "        test_Vgs_values = Vgs_list - total_deltaV_variation[i,j,:]\n",
        "        temp_Vgs.append(test_Vgs_values)\n",
        "    total_Vgs.append(temp_Vgs)\n",
        "total_Vgs = np.array(total_Vgs)\n",
        "print(total_Vgs[10,2,:])"
      ],
      "metadata": {
        "colab": {
          "base_uri": "https://localhost:8080/"
        },
        "id": "P8hnTIcpJ6Da",
        "outputId": "a2a38db5-f16e-4457-83a9-929c0f20dfe8"
      },
      "execution_count": 16,
      "outputs": [
        {
          "output_type": "stream",
          "name": "stdout",
          "text": [
            "(11, 3, 14)\n",
            "[-1.03       -0.89757143 -0.76514285 -0.63271428 -0.50028572 -0.36785715\n",
            " -0.23542857 -0.103       0.14644561  0.30368914  0.46093267  0.61817618\n",
            "  0.77541971  0.93266324  1.08990677  1.2471503   1.40030542  1.54834992\n",
            "  1.69639441  1.8444389   1.99248351  2.140528  ]\n"
          ]
        }
      ]
    },
    {
      "cell_type": "code",
      "source": [
        "import numpy as np\n",
        "from scipy import interpolate\n",
        "\n",
        "def estimate_y_values(t_stress_list, temp_list, data_array, x_values, Vgs_values, concat = False):\n",
        "    estimated_y_values = []\n",
        "    for i in range(len(t_stress_list)):\n",
        "        temp_estimated_y_values = []\n",
        "        for j in range(len(temp_list)):\n",
        "            # Determine the number of y_values based on the length of x_values\n",
        "            num_y_values = len(x_values)\n",
        "            y_indices = [j + k*len(temp_list) for k in range(num_y_values)]\n",
        "            y_values = [data_array[i, idx] for idx in y_indices]\n",
        "            # Linear interpolation\n",
        "            linear_interpolation = interpolate.interp1d(x_values, y_values, kind='linear', fill_value='extrapolate')\n",
        "            interpolated_values = linear_interpolation(Vgs_values)\n",
        "            temp_estimated_y_values.append(interpolated_values)\n",
        "        estimated_y_values.append(temp_estimated_y_values)\n",
        "    return np.array(estimated_y_values)\n",
        "\n",
        "x_values_PBTI = np.array([0.5, 1.0, 1.7])\n",
        "x_values_NBTI = np.array([-0.5, -1.0])\n",
        "\n",
        "PBTI_y_values = estimate_y_values(t_stress_list, temp_list, PBTI_array, x_values_PBTI, Vgs_pos)\n",
        "NBTI_y_values = estimate_y_values(t_stress_list, temp_list, NBTI_array, x_values_NBTI, Vgs_neg)\n",
        "HCD_y_values = estimate_y_values(t_stress_list, temp_list, HCD_array, x_values_PBTI, Vgs_pos)\n",
        "\n",
        "print(PBTI_y_values.shape)"
      ],
      "metadata": {
        "colab": {
          "base_uri": "https://localhost:8080/"
        },
        "id": "aKI243Q4AsbQ",
        "outputId": "00fef698-32d8-4ffd-c8c0-345e82072700"
      },
      "execution_count": 19,
      "outputs": [
        {
          "output_type": "stream",
          "name": "stdout",
          "text": [
            "(11, 3, 14)\n"
          ]
        }
      ]
    },
    {
      "cell_type": "code",
      "source": [
        "import matplotlib.pyplot as plt\n",
        "test_y_values = PBTI_y_values[10,2,:] # 85C 1000s PBTI\n",
        "print(PBTI_y_values)\n",
        "plt.figure(figsize=(10, 6))\n",
        "plt.plot(Vgs_pos, test_y_values, 'o-', label='Estimated Values')\n",
        "plt.plot(x_values, [-0.22, -0.334, -0.44], 's', label='Original Data Points')\n",
        "plt.title('Linear Interpolation of 85C 1000s Data Points')\n",
        "plt.xlabel('X values')\n",
        "plt.ylabel('Y values')\n",
        "plt.legend()\n",
        "plt.grid(True)\n",
        "plt.show()"
      ],
      "metadata": {
        "colab": {
          "base_uri": "https://localhost:8080/",
          "height": 1000
        },
        "id": "3-ZaLTh4SSpU",
        "outputId": "31528c19-2017-430e-f66e-4666a08c8408"
      },
      "execution_count": 21,
      "outputs": [
        {
          "output_type": "stream",
          "name": "stdout",
          "text": [
            "[[[ 0.          0.          0.          0.          0.\n",
            "    0.          0.          0.          0.          0.\n",
            "    0.          0.          0.          0.        ]\n",
            "  [ 0.          0.          0.          0.          0.\n",
            "    0.          0.          0.          0.          0.\n",
            "    0.          0.          0.          0.        ]\n",
            "  [ 0.          0.          0.          0.          0.\n",
            "    0.          0.          0.          0.          0.\n",
            "    0.          0.          0.          0.        ]]\n",
            "\n",
            " [[-0.00107635 -0.00133816 -0.00159998 -0.00186179 -0.00212361\n",
            "   -0.00238542 -0.00264723 -0.00290905 -0.00378638 -0.0054331\n",
            "   -0.00707983 -0.00872655 -0.01037328 -0.01202   ]\n",
            "  [-0.00245482 -0.00305194 -0.00364906 -0.00424618 -0.0048433\n",
            "   -0.00544042 -0.00603754 -0.00663466 -0.00960855 -0.0155534\n",
            "   -0.02149825 -0.0274431  -0.03338795 -0.0393328 ]\n",
            "  [-0.01877693 -0.0233443  -0.02791166 -0.03247902 -0.03704638\n",
            "   -0.04161374 -0.04618111 -0.05074847 -0.05547447 -0.06039878\n",
            "   -0.06532308 -0.07024739 -0.0751717  -0.080096  ]]\n",
            "\n",
            " [[-0.00158865 -0.00197508 -0.00236151 -0.00274794 -0.00313437\n",
            "   -0.0035208  -0.00390723 -0.00429366 -0.00554734 -0.0078851\n",
            "   -0.01022287 -0.01256063 -0.01489839 -0.01723615]\n",
            "  [-0.00520701 -0.00647358 -0.00774015 -0.00900672 -0.01027329\n",
            "   -0.01153986 -0.01280643 -0.014073   -0.01826782 -0.02612295\n",
            "   -0.03397807 -0.04183319 -0.04968832 -0.05754344]\n",
            "  [-0.02740706 -0.03407365 -0.04074023 -0.04740681 -0.0540734\n",
            "   -0.06073998 -0.06740656 -0.07407315 -0.08123535 -0.08901708\n",
            "   -0.09679881 -0.10458054 -0.11236227 -0.120144  ]]\n",
            "\n",
            " [[-0.00207184 -0.0025758  -0.00307976 -0.00358372 -0.00408768\n",
            "   -0.00459164 -0.0050956  -0.00559956 -0.00702697 -0.00960871\n",
            "   -0.01219044 -0.01477217 -0.01735391 -0.01993564]\n",
            "  [-0.00640962 -0.00796871 -0.00952781 -0.0110869  -0.012646\n",
            "   -0.0142051  -0.01576419 -0.01732329 -0.02242065 -0.03194084\n",
            "   -0.04146103 -0.05098122 -0.06050142 -0.0700216 ]\n",
            "  [-0.03322588 -0.04130785 -0.04938982 -0.05747178 -0.06555375\n",
            "   -0.07363572 -0.08171769 -0.08979966 -0.09803482 -0.10646146\n",
            "   -0.11488809 -0.12331472 -0.13174137 -0.140168  ]]\n",
            "\n",
            " [[-0.00236397 -0.002939   -0.00351402 -0.00408904 -0.00466406\n",
            "   -0.00523908 -0.0058141  -0.00638912 -0.00802811 -0.01099705\n",
            "   -0.01396599 -0.01693493 -0.01990387 -0.02287281]\n",
            "  [-0.00698605 -0.00868537 -0.01038468 -0.01208399 -0.0137833\n",
            "   -0.01548261 -0.01718192 -0.01888123 -0.02447583 -0.03493955\n",
            "   -0.04540326 -0.05586697 -0.06633069 -0.07679441]\n",
            "  [-0.03539338 -0.04400258 -0.05261178 -0.06122098 -0.06983018\n",
            "   -0.07843938 -0.08704858 -0.09565778 -0.10450103 -0.11363682\n",
            "   -0.12277261 -0.13190841 -0.14104421 -0.15018   ]]\n",
            "\n",
            " [[-0.00299609 -0.00372487 -0.00445364 -0.00518242 -0.0059112\n",
            "   -0.00663998 -0.00736876 -0.00809754 -0.01036872 -0.0145679\n",
            "   -0.01876708 -0.02296627 -0.02716545 -0.03136464]\n",
            "  [-0.01252048 -0.015566   -0.01861153 -0.02165705 -0.02470257\n",
            "   -0.02774809 -0.03079362 -0.03383914 -0.04196985 -0.05645703\n",
            "   -0.0709442  -0.08543138 -0.09991857 -0.11440575]\n",
            "  [-0.05211414 -0.06479055 -0.07746696 -0.09014337 -0.10281979\n",
            "   -0.1154962  -0.12817261 -0.14084902 -0.15126579 -0.15885799\n",
            "   -0.16645019 -0.17404239 -0.1816346  -0.1892268 ]]\n",
            "\n",
            " [[-0.00354844 -0.00441158 -0.00527471 -0.00613784 -0.00700098\n",
            "   -0.00786411 -0.00872725 -0.00959038 -0.01206932 -0.01656801\n",
            "   -0.0210667  -0.02556539 -0.03006408 -0.03456277]\n",
            "  [-0.0132748  -0.01650381 -0.01973282 -0.02296182 -0.02619083\n",
            "   -0.02941983 -0.03264884 -0.03587785 -0.04520075 -0.06214102\n",
            "   -0.07908129 -0.09602156 -0.11296185 -0.12990212]\n",
            "  [-0.06016075 -0.07479445 -0.08942814 -0.10406184 -0.11869554\n",
            "   -0.13332923 -0.14796293 -0.16259663 -0.17395303 -0.18121283\n",
            "   -0.18847262 -0.19573241 -0.20299221 -0.210252  ]]\n",
            "\n",
            " [[-0.00448885 -0.00558073 -0.00667262 -0.0077645  -0.00885638\n",
            "   -0.00994826 -0.01104015 -0.01213203 -0.01486625 -0.0196534\n",
            "   -0.02444054 -0.02922769 -0.03401483 -0.03880198]\n",
            "  [-0.01571478 -0.01953729 -0.02335981 -0.02718232 -0.03100484\n",
            "   -0.03482735 -0.03864986 -0.04247238 -0.05261112 -0.07064512\n",
            "   -0.08867912 -0.10671312 -0.12474714 -0.14278114]\n",
            "  [-0.06544405 -0.08136287 -0.09728169 -0.11320051 -0.12911934\n",
            "   -0.14503816 -0.16095698 -0.1768758  -0.18901359 -0.19642506\n",
            "   -0.20383653 -0.21124801 -0.21865949 -0.22607096]]\n",
            "\n",
            " [[-0.00593151 -0.00737431 -0.00881711 -0.01025991 -0.01170271\n",
            "   -0.01314552 -0.01458832 -0.01603112 -0.02044423 -0.02857024\n",
            "   -0.03669624 -0.04482224 -0.05294825 -0.06107425]\n",
            "  [-0.02463057 -0.03062179 -0.03661301 -0.04260423 -0.04859545\n",
            "   -0.05458667 -0.06057789 -0.06656911 -0.08132918 -0.10705031\n",
            "   -0.13277144 -0.15849256 -0.18421371 -0.20993484]\n",
            "  [-0.09398669 -0.11684832 -0.13970994 -0.16257157 -0.18543319\n",
            "   -0.20829482 -0.23115645 -0.25401808 -0.27028249 -0.27830039\n",
            "   -0.28631829 -0.29433619 -0.3023541  -0.310372  ]]\n",
            "\n",
            " [[-0.00756271 -0.00940228 -0.01124186 -0.01308144 -0.01492101\n",
            "   -0.01676059 -0.01860017 -0.02043975 -0.02525985 -0.03380559\n",
            "   -0.04235133 -0.05089708 -0.05944283 -0.06798857]\n",
            "  [-0.02735725 -0.03401172 -0.04066618 -0.04732065 -0.05397512\n",
            "   -0.06062958 -0.06728405 -0.07393852 -0.09101893 -0.12113175\n",
            "   -0.15124457 -0.1813574  -0.21147024 -0.24158307]\n",
            "  [-0.1078484  -0.13408179 -0.16031518 -0.18654857 -0.21278197\n",
            "   -0.23901536 -0.26524876 -0.29148215 -0.31212971 -0.32579497\n",
            "   -0.33946022 -0.35312548 -0.36679074 -0.380456  ]]\n",
            "\n",
            " [[-0.00822994 -0.01023182 -0.0122337  -0.01423558 -0.01623745\n",
            "   -0.01823933 -0.02024121 -0.02224309 -0.02749023 -0.03679396\n",
            "   -0.04609768 -0.0554014  -0.06470513 -0.07400885]\n",
            "  [-0.03014745 -0.03748061 -0.04481377 -0.05214693 -0.0594801\n",
            "   -0.06681326 -0.07414642 -0.08147959 -0.1003561  -0.13366176\n",
            "   -0.16696742 -0.20027309 -0.23357878 -0.26688444]\n",
            "  [-0.11787418 -0.14654628 -0.17521838 -0.20389047 -0.23256257\n",
            "   -0.26123467 -0.28990677 -0.31857887 -0.34316252 -0.36263562\n",
            "   -0.38210871 -0.4015818  -0.42105491 -0.440528  ]]]\n"
          ]
        },
        {
          "output_type": "display_data",
          "data": {
            "text/plain": [
              "<Figure size 1000x600 with 1 Axes>"
            ],
            "image/png": "[encoded data removed]"
          },
          "metadata": {}
        }
      ]
    },
    {
      "cell_type": "code",
      "source": [
        "#t = np.arange(0, 1001, 100)  # Time from 0 to 1000 by intervals of 100s]\n",
        "#delta_Vg_m15_ = [0, 0, 0, 0, 0, 0, 0.00259844729997958, -0.000457053125252409, -0.0103, -0.0197, -0.0307, ]\n",
        "#delta_Vg_25\n",
        "delta_Vg_85 = PBTI_y_values[10,2,:]\n",
        "# Subtract delta_Vg from Vg_test for each time step\n",
        "#Vg_modified_m15 = np.array([Vg_test + delta for delta in delta_Vg_m15])\n",
        "#print(Vg_modified_m15)\n",
        "#Vg_modified_25 = np.array([Vg_test + delta for delta in delta_Vg_25])\n",
        "Vg_modified_85 = np.array([Vgs_list + delta for delta in delta_Vg_85])\n",
        "Vg_modified_vstack = np.vstack((Vg_modified_m15, Vg_modified_25, Vg_modified_85))\n",
        "Id0_test = np.array(idvg_temp.iloc[:, 243])\n",
        "print(\"Id0_test: {}\".format(Vg_modified_vstack))\n",
        "plt.plot(Vg_test, (Id0_test), label = \"Original\") ## TCAD\n",
        "for i in range(11):\n",
        "    plt.plot(Vg_modified_85[i][:], Id0_test, label = \"85C PBTI at t={}\".format(i*100)) ## TCAD\n",
        "    #plt.plot(Vg_modified_85[i][:], Id85_test, label = \"85C PBTI\") ## TCAD\n",
        "#plt.scatter(Vg_test, np.log10(Id2_test), label = \"VD = 2.4V\") ## TCAD\n",
        "#plt.plot(vd_temp, np.log10(Id0_test), label = \"VD = 0.05V\")\n",
        "#plt.plot(vd_temp, np.log10(Id_test), label = \"VD = 1V\")\n",
        "#plt.plot(vd_temp, np.log10(Id2_test), label = \"VD = 2.4V\")\n",
        "plt.xlabel(\"Gate Voltage [V]\")\n",
        "plt.ylabel(\"Current [A/um]\")\n",
        "plt.legend()\n",
        "plt.show()\n"
      ],
      "metadata": {
        "id": "TcXHCDBSJ8vY"
      },
      "execution_count": null,
      "outputs": []
    }
  ]
}